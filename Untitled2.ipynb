{
  "nbformat": 4,
  "nbformat_minor": 0,
  "metadata": {
    "colab": {
      "name": "Untitled2.ipynb",
      "provenance": [],
      "collapsed_sections": [],
      "toc_visible": true,
      "authorship_tag": "ABX9TyPJT3trN5H2wEECTvQj5adw",
      "include_colab_link": true
    },
    "kernelspec": {
      "name": "python3",
      "display_name": "Python 3"
    }
  },
  "cells": [
    {
      "cell_type": "markdown",
      "metadata": {
        "id": "view-in-github",
        "colab_type": "text"
      },
      "source": [
        "<a href=\"https://colab.research.google.com/github/athoni-g/DU-ESNSI/blob/Ch1/Untitled2.ipynb\" target=\"_parent\"><img src=\"https://colab.research.google.com/assets/colab-badge.svg\" alt=\"Open In Colab\"/></a>"
      ]
    },
    {
      "cell_type": "code",
      "metadata": {
        "id": "NZEiArFrQBd4"
      },
      "source": [
        "x"
      ],
      "execution_count": null,
      "outputs": []
    },
    {
      "cell_type": "markdown",
      "metadata": {
        "id": "Jcy_B_cQasJh"
      },
      "source": [
        "# Embeder\n",
        "Le truc a embeder\n",
        "C'est curieux cette histoire de titre\n",
        "\n",
        "Mais c'est vraiment cool !\n",
        "Là, je modifie le texte\n",
        "On note tout au fur et à mesure\n",
        "Et- là on peut écrire en plus\n",
        "![](https://i.imgur.com/56fVkNr.jpg)\n",
        "\n"
      ]
    },
    {
      "cell_type": "markdown",
      "metadata": {
        "id": "2lhKPyfyQNbQ"
      },
      "source": [
        "# Ma nouvelle section qui va bien pour partager et lire"
      ]
    },
    {
      "cell_type": "code",
      "metadata": {
        "id": "JGZrif_5QCa8"
      },
      "source": [
        ""
      ],
      "execution_count": null,
      "outputs": []
    }
  ]
}